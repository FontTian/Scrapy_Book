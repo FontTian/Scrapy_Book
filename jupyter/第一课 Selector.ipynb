{
 "cells": [
  {
   "cell_type": "markdown",
   "metadata": {},
   "source": [
    "### 创建数据集"
   ]
  },
  {
   "cell_type": "code",
   "execution_count": 93,
   "metadata": {},
   "outputs": [
    {
     "name": "stdout",
     "output_type": "stream",
     "text": [
      "<!DOCTYPE html>\n",
      "<html lang=\"en\">\n",
      "<head>\n",
      "    <meta charset=\"UTF-8\">\n",
      "    <title>Title</title>\n",
      "</head>\n",
      "<body>\n",
      "<h1>Hello World</h1>\n",
      "<h1>Hello World</h1>\n",
      "<h1>Hello World</h1>\n",
      "\n",
      "<ul>\n",
      "    <li>C++</li>\n",
      "    <li>JAVA</li>\n",
      "    <li>Scala</li>\n",
      "    <li>Python</li>\n",
      "    <li>R</li>\n",
      "</ul>\n",
      "</body>\n",
      "</html>\n"
     ]
    }
   ],
   "source": [
    "# 创建数据集\n",
    "with open('/home/fonttian/Data/Scrapy/example/example1_1.html','r') as f:\n",
    "    text = f.read()\n",
    "\n",
    "print(text)"
   ]
  },
  {
   "cell_type": "code",
   "execution_count": 12,
   "metadata": {},
   "outputs": [],
   "source": [
    "text2 = '\\\n",
    "    <body>\\\n",
    "    <h1>Hello World</h1>\\\n",
    "    <h1>Hello World<h2>23333</h2></h1>\\\n",
    "    <h1>Hello World</h1>\\\n",
    "    <ul>\\\n",
    "        <li>C++</li>\\\n",
    "        <li>JAVA</li>\\\n",
    "        <li>Scala</li>\\\n",
    "        <li>Python</li>\\\n",
    "        <li>R</li>\\\n",
    "    </ul>\\\n",
    "    </body>\\\n",
    "    </html>'"
   ]
  },
  {
   "cell_type": "markdown",
   "metadata": {},
   "source": [
    "### 创建对象"
   ]
  },
  {
   "cell_type": "code",
   "execution_count": 13,
   "metadata": {},
   "outputs": [
    {
     "data": {
      "text/plain": [
       "<Selector xpath=None data='<html><body>    <h1>Hello World</h1>    '>"
      ]
     },
     "execution_count": 13,
     "metadata": {},
     "output_type": "execute_result"
    }
   ],
   "source": [
    "# 在构造Seletor时,将页面以字符串的形式传给Selector\n",
    "\n",
    "from scrapy.selector import Selector\n",
    "\n",
    "selector = Selector(text = text2)\n",
    "selector"
   ]
  },
  {
   "cell_type": "code",
   "execution_count": 4,
   "metadata": {},
   "outputs": [
    {
     "data": {
      "text/plain": [
       "<Selector xpath=None data='<html lang=\"en\">\\n<head>\\n    <meta charse'>"
      ]
     },
     "execution_count": 4,
     "metadata": {},
     "output_type": "execute_result"
    }
   ],
   "source": [
    "# 使用Response对象构造Selector对象,然后通过参数传递给Selector\n",
    "\n",
    "from scrapy.http import HtmlResponse\n",
    "    \n",
    "response = HtmlResponse(url = 'http://blog.csdn.net/fontthrone/article/category/6877815',body = text,encoding = 'utf8')\n",
    "selector = Selector(response=response)\n",
    "selector"
   ]
  },
  {
   "cell_type": "markdown",
   "metadata": {},
   "source": [
    "### 选中数据"
   ]
  },
  {
   "cell_type": "code",
   "execution_count": 14,
   "metadata": {},
   "outputs": [
    {
     "data": {
      "text/plain": [
       "[<Selector xpath='//h1' data='<h1>Hello World</h1>'>,\n",
       " <Selector xpath='//h1' data='<h1>Hello World<h2>23333</h2></h1>'>,\n",
       " <Selector xpath='//h1' data='<h1>Hello World</h1>'>]"
      ]
     },
     "execution_count": 14,
     "metadata": {},
     "output_type": "execute_result"
    }
   ],
   "source": [
    "selector_list = selector.xpath('//h1') # // 选中所有,会返回一个Selectorlist对象\n",
    "selector_list # SelectorList中的每一个对象都是一个Selector"
   ]
  },
  {
   "cell_type": "code",
   "execution_count": 22,
   "metadata": {},
   "outputs": [
    {
     "name": "stdout",
     "output_type": "stream",
     "text": [
      "      [<Selector xpath='./text()' data='Hello World'>]\n",
      "str : [<Selector xpath='./text()' data='Hello World'>]\n",
      "      [<Selector xpath='./text()' data='Hello World'>]\n",
      "str : [<Selector xpath='./text()' data='Hello World'>]\n",
      "      [<Selector xpath='./text()' data='Hello World'>]\n",
      "str : [<Selector xpath='./text()' data='Hello World'>]\n"
     ]
    }
   ],
   "source": [
    "for sel in selector_list:\n",
    "    print('     ',sel.xpath('./text()'))\n",
    "    print('str :',str(sel.xpath('./text()'))) # 注意是不能这样提取数据的 "
   ]
  },
  {
   "cell_type": "code",
   "execution_count": 94,
   "metadata": {},
   "outputs": [
    {
     "data": {
      "text/plain": [
       "[<Selector xpath='./text()' data='Hello World'>,\n",
       " <Selector xpath='./text()' data='Hello World'>,\n",
       " <Selector xpath='./text()' data='Hello World'>]"
      ]
     },
     "execution_count": 94,
     "metadata": {},
     "output_type": "execute_result"
    }
   ],
   "source": [
    "selector_list.xpath('./text()')"
   ]
  },
  {
   "cell_type": "code",
   "execution_count": 107,
   "metadata": {},
   "outputs": [
    {
     "data": {
      "text/plain": [
       "[<Selector xpath='./text()' data='C++'>,\n",
       " <Selector xpath='./text()' data='JAVA'>,\n",
       " <Selector xpath='./text()' data='Scala'>,\n",
       " <Selector xpath='./text()' data='Python'>,\n",
       " <Selector xpath='./text()' data='R'>]"
      ]
     },
     "execution_count": 107,
     "metadata": {},
     "output_type": "execute_result"
    }
   ],
   "source": [
    "selector.xpath('//ul').css('li').xpath('./text()')"
   ]
  },
  {
   "cell_type": "code",
   "execution_count": 105,
   "metadata": {},
   "outputs": [
    {
     "data": {
      "text/plain": [
       "[]"
      ]
     },
     "execution_count": 105,
     "metadata": {},
     "output_type": "execute_result"
    }
   ],
   "source": [
    "selector.xpath('./ul')"
   ]
  },
  {
   "cell_type": "markdown",
   "metadata": {},
   "source": [
    "这是为什么呢?"
   ]
  },
  {
   "cell_type": "code",
   "execution_count": 103,
   "metadata": {},
   "outputs": [
    {
     "data": {
      "text/plain": [
       "<Selector xpath=None data='<html><body>    <h1>Hello World</h1>    '>"
      ]
     },
     "execution_count": 103,
     "metadata": {},
     "output_type": "execute_result"
    }
   ],
   "source": [
    "selector"
   ]
  },
  {
   "cell_type": "code",
   "execution_count": 112,
   "metadata": {},
   "outputs": [
    {
     "data": {
      "text/plain": [
       "[<Selector xpath='/html/body/ul' data='<ul>        <li>C++</li>        <li>JAVA'>]"
      ]
     },
     "execution_count": 112,
     "metadata": {},
     "output_type": "execute_result"
    }
   ],
   "source": [
    "selector.xpath('/html/body/ul')"
   ]
  },
  {
   "cell_type": "markdown",
   "metadata": {},
   "source": [
    "### 提取数据\n",
    "\n",
    "有四种方式\n",
    " 1. extract()\n",
    " 2. re()\n",
    " 3. extract_first() (SelectorList专有)\n",
    " 4. re_first() (SelectorList专有)\n",
    " "
   ]
  },
  {
   "cell_type": "code",
   "execution_count": 34,
   "metadata": {},
   "outputs": [
    {
     "data": {
      "text/plain": [
       "[<Selector xpath='//li' data='<li>C++</li>'>,\n",
       " <Selector xpath='//li' data='<li>JAVA</li>'>,\n",
       " <Selector xpath='//li' data='<li>Scala</li>'>,\n",
       " <Selector xpath='//li' data='<li>Python</li>'>,\n",
       " <Selector xpath='//li' data='<li>R</li>'>]"
      ]
     },
     "execution_count": 34,
     "metadata": {},
     "output_type": "execute_result"
    }
   ],
   "source": [
    "sl_li = selector.xpath('//li') # SelectorList对象\n",
    "sl_li"
   ]
  },
  {
   "cell_type": "code",
   "execution_count": 40,
   "metadata": {},
   "outputs": [
    {
     "data": {
      "text/plain": [
       "'<li>C++</li>'"
      ]
     },
     "execution_count": 40,
     "metadata": {},
     "output_type": "execute_result"
    }
   ],
   "source": [
    "sl_li[0].extract()\n",
    "# sl_li.extract_first() # 拥有同样的效果"
   ]
  },
  {
   "cell_type": "code",
   "execution_count": 44,
   "metadata": {},
   "outputs": [
    {
     "data": {
      "text/plain": [
       "'C++'"
      ]
     },
     "execution_count": 44,
     "metadata": {},
     "output_type": "execute_result"
    }
   ],
   "source": [
    "# sl_li_text = sl_li.xpath('./text()')\n",
    "# sl_li = selector.xpath('//li/text()') # SelectorList对象,效果一样\n",
    "sl_li = selector.xpath('//li').xpath('./text()') # SelectorList对象,效果一样\n",
    "sl_li_text[0].extract()"
   ]
  },
  {
   "cell_type": "code",
   "execution_count": 46,
   "metadata": {},
   "outputs": [
    {
     "data": {
      "text/plain": [
       "[<Selector xpath='./text()' data='C++'>,\n",
       " <Selector xpath='./text()' data='JAVA'>,\n",
       " <Selector xpath='./text()' data='Scala'>,\n",
       " <Selector xpath='./text()' data='Python'>,\n",
       " <Selector xpath='./text()' data='R'>]"
      ]
     },
     "execution_count": 46,
     "metadata": {},
     "output_type": "execute_result"
    }
   ],
   "source": [
    "sl_li = selector.xpath('//li').xpath('./text()') # 实现方式不同,对象本质不同\n",
    "sl_li"
   ]
  },
  {
   "cell_type": "code",
   "execution_count": 48,
   "metadata": {},
   "outputs": [
    {
     "data": {
      "text/plain": [
       "['C++', 'JAVA', 'Scala', 'Python', 'R']"
      ]
     },
     "execution_count": 48,
     "metadata": {},
     "output_type": "execute_result"
    }
   ],
   "source": [
    "sl_li.extract()"
   ]
  },
  {
   "cell_type": "code",
   "execution_count": 57,
   "metadata": {},
   "outputs": [
    {
     "name": "stdout",
     "output_type": "stream",
     "text": [
      "\n",
      "      [<Selector xpath='./text()' data='Hello World'>]\n",
      "\n",
      "      Hello World\n",
      "\n",
      "      [<Selector xpath='./text()' data='Hello World'>]\n",
      "\n",
      "      Hello World\n",
      "\n",
      "      [<Selector xpath='./text()' data='Hello World'>]\n",
      "\n",
      "      Hello World\n"
     ]
    }
   ],
   "source": [
    "for sel in selector_list:\n",
    "    print('\\n     ',sel.xpath('./text()'))\n",
    "#     print('str :',str(sel.xpath('./text()'))) # 注意是不能这样提取数据的\n",
    "    print('\\n     ',sel.xpath('./text()').extract()[0])"
   ]
  },
  {
   "cell_type": "code",
   "execution_count": 58,
   "metadata": {},
   "outputs": [
    {
     "data": {
      "text/plain": [
       "'<h1>Hello World</h1>'"
      ]
     },
     "execution_count": 58,
     "metadata": {},
     "output_type": "execute_result"
    }
   ],
   "source": [
    "selector_list.extract_first()"
   ]
  },
  {
   "cell_type": "code",
   "execution_count": 59,
   "metadata": {},
   "outputs": [
    {
     "data": {
      "text/plain": [
       "['<h1>Hello World</h1>',\n",
       " '<h1>Hello World<h2>23333</h2></h1>',\n",
       " '<h1>Hello World</h1>']"
      ]
     },
     "execution_count": 59,
     "metadata": {},
     "output_type": "execute_result"
    }
   ],
   "source": [
    "selector_list.extract()"
   ]
  },
  {
   "cell_type": "code",
   "execution_count": 61,
   "metadata": {},
   "outputs": [
    {
     "data": {
      "text/plain": [
       "'<h1>Hello World</h1>'"
      ]
     },
     "execution_count": 61,
     "metadata": {},
     "output_type": "execute_result"
    }
   ],
   "source": [
    "selector_list[0].extract()"
   ]
  },
  {
   "cell_type": "code",
   "execution_count": 62,
   "metadata": {
    "collapsed": true
   },
   "outputs": [],
   "source": [
    "# re\n",
    "\n",
    "text3 = '\\\n",
    "    <ul>\\\n",
    "        <li>C++<b>课时32小时</b></li>\\\n",
    "        <li>JAVA<b>课时32小时</b></li>\\\n",
    "        <li>Scala<b>课时32小时</b></li>\\\n",
    "        <li>Python<b>课时32小时</b></li>\\\n",
    "        <li>R<b>课时32小时</b></li>\\\n",
    "    </ul>'\n",
    "\n",
    "\n",
    "selector3 = Selector(text=text3)"
   ]
  },
  {
   "cell_type": "code",
   "execution_count": 64,
   "metadata": {},
   "outputs": [
    {
     "data": {
      "text/plain": [
       "[<Selector xpath='//li/b/text()' data='课时32小时'>,\n",
       " <Selector xpath='//li/b/text()' data='课时32小时'>,\n",
       " <Selector xpath='//li/b/text()' data='课时32小时'>,\n",
       " <Selector xpath='//li/b/text()' data='课时32小时'>,\n",
       " <Selector xpath='//li/b/text()' data='课时32小时'>]"
      ]
     },
     "execution_count": 64,
     "metadata": {},
     "output_type": "execute_result"
    }
   ],
   "source": [
    "selector3.xpath('//li/b/text()')"
   ]
  },
  {
   "cell_type": "code",
   "execution_count": 69,
   "metadata": {},
   "outputs": [
    {
     "data": {
      "text/plain": [
       "['课时32小时', '课时32小时', '课时32小时', '课时32小时', '课时32小时']"
      ]
     },
     "execution_count": 69,
     "metadata": {},
     "output_type": "execute_result"
    }
   ],
   "source": [
    "selector3.xpath('//li/b/text()').extract()"
   ]
  },
  {
   "cell_type": "code",
   "execution_count": 71,
   "metadata": {},
   "outputs": [
    {
     "data": {
      "text/plain": [
       "scrapy.selector.unified.SelectorList"
      ]
     },
     "execution_count": 71,
     "metadata": {},
     "output_type": "execute_result"
    }
   ],
   "source": [
    "type(selector3.xpath('//li/b/text()'))"
   ]
  },
  {
   "cell_type": "code",
   "execution_count": 72,
   "metadata": {},
   "outputs": [
    {
     "data": {
      "text/plain": [
       "list"
      ]
     },
     "execution_count": 72,
     "metadata": {},
     "output_type": "execute_result"
    }
   ],
   "source": [
    "type(selector3.xpath('//li/b/text()').extract())"
   ]
  },
  {
   "cell_type": "code",
   "execution_count": 74,
   "metadata": {},
   "outputs": [
    {
     "data": {
      "text/plain": [
       "['32', '32', '32', '32', '32']"
      ]
     },
     "execution_count": 74,
     "metadata": {},
     "output_type": "execute_result"
    }
   ],
   "source": [
    "selector3.xpath('//li/b/text()').re('\\d+')"
   ]
  },
  {
   "cell_type": "code",
   "execution_count": 76,
   "metadata": {},
   "outputs": [
    {
     "data": {
      "text/plain": [
       "list"
      ]
     },
     "execution_count": 76,
     "metadata": {},
     "output_type": "execute_result"
    }
   ],
   "source": [
    "type(selector3.xpath('//li/b/text()').re('\\d+'))"
   ]
  },
  {
   "cell_type": "markdown",
   "metadata": {},
   "source": [
    "## Response 的内置Selector\n",
    "TextResponse的源码,会自动创建Selector对象\n",
    "\n",
    "```python\n",
    "\n",
    "class TextResponse(Response):\n",
    "\n",
    "    @property\n",
    "    def selector(self):\n",
    "        from scrapy.selector import Selector\n",
    "        if self._cached_selector is None:\n",
    "            self._cached_selector = Selector(self)\n",
    "        return self._cached_selector\n",
    "\n",
    "```"
   ]
  },
  {
   "cell_type": "code",
   "execution_count": 81,
   "metadata": {},
   "outputs": [
    {
     "data": {
      "text/plain": [
       "<Selector xpath=None data='<html><body><ul>        <li>C++<b>课时32小时'>"
      ]
     },
     "execution_count": 81,
     "metadata": {},
     "output_type": "execute_result"
    }
   ],
   "source": [
    "response = HtmlResponse(url='http://blog.csdn.net/fontthrone/article/category/6877815',body=text3,encoding='utf8')\n",
    "Selector_response = response.selector\n",
    "Selector_response"
   ]
  },
  {
   "cell_type": "code",
   "execution_count": 86,
   "metadata": {},
   "outputs": [
    {
     "data": {
      "text/plain": [
       "['32', '32', '32', '32', '32']"
      ]
     },
     "execution_count": 86,
     "metadata": {},
     "output_type": "execute_result"
    }
   ],
   "source": [
    "Selector_response.re('\\d+')"
   ]
  },
  {
   "cell_type": "code",
   "execution_count": 87,
   "metadata": {},
   "outputs": [
    {
     "ename": "AttributeError",
     "evalue": "'HtmlResponse' object has no attribute 're'",
     "output_type": "error",
     "traceback": [
      "\u001b[0;31m---------------------------------------------------------------------------\u001b[0m",
      "\u001b[0;31mAttributeError\u001b[0m                            Traceback (most recent call last)",
      "\u001b[0;32m<ipython-input-87-d41db5b3949f>\u001b[0m in \u001b[0;36m<module>\u001b[0;34m()\u001b[0m\n\u001b[0;32m----> 1\u001b[0;31m \u001b[0mresponse\u001b[0m\u001b[0;34m.\u001b[0m\u001b[0mre\u001b[0m\u001b[0;34m(\u001b[0m\u001b[0;34m'\\b+'\u001b[0m\u001b[0;34m)\u001b[0m\u001b[0;34m\u001b[0m\u001b[0m\n\u001b[0m",
      "\u001b[0;31mAttributeError\u001b[0m: 'HtmlResponse' object has no attribute 're'"
     ]
    }
   ],
   "source": [
    "response.re('\\b+') # 不行"
   ]
  },
  {
   "cell_type": "code",
   "execution_count": 89,
   "metadata": {},
   "outputs": [
    {
     "data": {
      "text/plain": [
       "[<Selector xpath='//li' data='<li>C++<b>课时32小时</b></li>'>,\n",
       " <Selector xpath='//li' data='<li>JAVA<b>课时32小时</b></li>'>,\n",
       " <Selector xpath='//li' data='<li>Scala<b>课时32小时</b></li>'>,\n",
       " <Selector xpath='//li' data='<li>Python<b>课时32小时</b></li>'>,\n",
       " <Selector xpath='//li' data='<li>R<b>课时32小时</b></li>'>]"
      ]
     },
     "execution_count": 89,
     "metadata": {},
     "output_type": "execute_result"
    }
   ],
   "source": [
    "response.xpath('//li')"
   ]
  },
  {
   "cell_type": "code",
   "execution_count": 90,
   "metadata": {},
   "outputs": [
    {
     "data": {
      "text/plain": [
       "[<Selector xpath='descendant-or-self::li' data='<li>C++<b>课时32小时</b></li>'>,\n",
       " <Selector xpath='descendant-or-self::li' data='<li>JAVA<b>课时32小时</b></li>'>,\n",
       " <Selector xpath='descendant-or-self::li' data='<li>Scala<b>课时32小时</b></li>'>,\n",
       " <Selector xpath='descendant-or-self::li' data='<li>Python<b>课时32小时</b></li>'>,\n",
       " <Selector xpath='descendant-or-self::li' data='<li>R<b>课时32小时</b></li>'>]"
      ]
     },
     "execution_count": 90,
     "metadata": {},
     "output_type": "execute_result"
    }
   ],
   "source": [
    "response.css('li')"
   ]
  },
  {
   "cell_type": "code",
   "execution_count": null,
   "metadata": {
    "collapsed": true
   },
   "outputs": [],
   "source": []
  }
 ],
 "metadata": {
  "kernelspec": {
   "display_name": "Python 3",
   "language": "python",
   "name": "python3"
  },
  "language_info": {
   "codemirror_mode": {
    "name": "ipython",
    "version": 3
   },
   "file_extension": ".py",
   "mimetype": "text/x-python",
   "name": "python",
   "nbconvert_exporter": "python",
   "pygments_lexer": "ipython3",
   "version": "3.6.3"
  }
 },
 "nbformat": 4,
 "nbformat_minor": 2
}
