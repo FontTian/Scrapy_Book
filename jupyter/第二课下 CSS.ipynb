{
 "cells": [
  {
   "cell_type": "code",
   "execution_count": 2,
   "metadata": {},
   "outputs": [
    {
     "name": "stdout",
     "output_type": "stream",
     "text": [
      "<!DOCTYPE html>\n",
      "<html>\n",
      "<head>\n",
      "\t<title>example2_1</title>\n",
      "</head>\n",
      "<body>\n",
      "<div>\n",
      "<div>\n",
      "<div id=\"images-1\" class=\"div1\" style=\"width: 1230px\">\n",
      "\t<a href=\"/image1.html\">Name:Image 1<br/><img src=\"image1.jpg\"></a>\n",
      "\t<a href=\"/image2.html\">Name:Image 2<br/><img src=\"image2.jpg\"></a>\n",
      "\t<a href=\"/image3.html\">Name:Image 3<br/><img src=\"image3.jpg\"></a>\n",
      "\t<a class=\"/img-red\" href=\"image4.html\">Name:Image 4<br/><img src=\"image4.jpg\"></a>\n",
      "</div>\n",
      "<div id=\"/images-2\" style=\"width: 1230px\">\n",
      "\t<a href=\"/image4.html\">Name:Image 5<br/><img src=\"image4.jpg\"></a>\n",
      "\t<a href=\"/image6.html\">Name:Image 6<br/><img src=\"image6.jpg\"></a>\n",
      "</div>\n",
      "<div id=\"images-3\" style=\"width: 1230px\">\n",
      "\t<a href=\"/image7.html\">Name:Image 7<br/><img src=\"image7.jpg\"></a>\n",
      "\t<a href=\"/image8.html\">Name:Image 8<br/><img src=\"image8.jpg\"></a>\n",
      "\t<a href=\"/image9.html\">Name:Image 9<br/><img src=\"image9.jpg\"></a>\n",
      "</div>\n",
      "</body>\n",
      "</html>>\n",
      "\n"
     ]
    }
   ],
   "source": [
    "# 创建数据集\n",
    "with open('/home/font/Data/Scrapy/example/example2_2.html','r') as f:\n",
    "    text = f.read()\n",
    "\n",
    "print(text)"
   ]
  },
  {
   "cell_type": "code",
   "execution_count": 3,
   "metadata": {},
   "outputs": [
    {
     "data": {
      "text/plain": [
       "<Selector xpath=None data='<html>\\n<head>\\n\\t<title>example2_1</title>'>"
      ]
     },
     "execution_count": 3,
     "metadata": {},
     "output_type": "execute_result"
    }
   ],
   "source": [
    "from scrapy.http import HtmlResponse\n",
    "from scrapy.selector import Selector\n",
    "\n",
    "response = HtmlResponse(url = 'http://www.runoob.com/xpath/xpath-tutorial.html',body = text,encoding = 'utf8')\n",
    "selector = Selector(response=response)\n",
    "selector"
   ]
  },
  {
   "cell_type": "code",
   "execution_count": 4,
   "metadata": {},
   "outputs": [
    {
     "data": {
      "text/plain": [
       "[<Selector xpath='descendant-or-self::div' data='<div>\\n<div>\\n<div id=\"images-1\" class=\"di'>,\n",
       " <Selector xpath='descendant-or-self::div' data='<div>\\n<div id=\"images-1\" class=\"div1\" st'>,\n",
       " <Selector xpath='descendant-or-self::div' data='<div id=\"images-1\" class=\"div1\" style=\"w'>,\n",
       " <Selector xpath='descendant-or-self::div' data='<div id=\"/images-2\" style=\"width: 1230px'>,\n",
       " <Selector xpath='descendant-or-self::div' data='<div id=\"images-3\" style=\"width: 1230px\"'>]"
      ]
     },
     "execution_count": 4,
     "metadata": {},
     "output_type": "execute_result"
    }
   ],
   "source": [
    "div = selector.css('div')\n",
    "div"
   ]
  },
  {
   "cell_type": "code",
   "execution_count": 5,
   "metadata": {},
   "outputs": [
    {
     "data": {
      "text/plain": [
       "[<Selector xpath='descendant-or-self::div/descendant-or-self::*/a' data='<a href=\"/image1.html\">Name:Image 1<br><'>,\n",
       " <Selector xpath='descendant-or-self::div/descendant-or-self::*/a' data='<a href=\"/image2.html\">Name:Image 2<br><'>,\n",
       " <Selector xpath='descendant-or-self::div/descendant-or-self::*/a' data='<a href=\"/image3.html\">Name:Image 3<br><'>,\n",
       " <Selector xpath='descendant-or-self::div/descendant-or-self::*/a' data='<a class=\"/img-red\" href=\"image4.html\">N'>,\n",
       " <Selector xpath='descendant-or-self::div/descendant-or-self::*/a' data='<a href=\"/image4.html\">Name:Image 5<br><'>,\n",
       " <Selector xpath='descendant-or-self::div/descendant-or-self::*/a' data='<a href=\"/image6.html\">Name:Image 6<br><'>,\n",
       " <Selector xpath='descendant-or-self::div/descendant-or-self::*/a' data='<a href=\"/image7.html\">Name:Image 7<br><'>,\n",
       " <Selector xpath='descendant-or-self::div/descendant-or-self::*/a' data='<a href=\"/image8.html\">Name:Image 8<br><'>,\n",
       " <Selector xpath='descendant-or-self::div/descendant-or-self::*/a' data='<a href=\"/image9.html\">Name:Image 9<br><'>]"
      ]
     },
     "execution_count": 5,
     "metadata": {},
     "output_type": "execute_result"
    }
   ],
   "source": [
    "selector.css('div a')"
   ]
  },
  {
   "cell_type": "code",
   "execution_count": 6,
   "metadata": {},
   "outputs": [
    {
     "data": {
      "text/plain": [
       "[<Selector xpath='descendant-or-self::div/a' data='<a href=\"/image1.html\">Name:Image 1<br><'>,\n",
       " <Selector xpath='descendant-or-self::div/a' data='<a href=\"/image2.html\">Name:Image 2<br><'>,\n",
       " <Selector xpath='descendant-or-self::div/a' data='<a href=\"/image3.html\">Name:Image 3<br><'>,\n",
       " <Selector xpath='descendant-or-self::div/a' data='<a class=\"/img-red\" href=\"image4.html\">N'>,\n",
       " <Selector xpath='descendant-or-self::div/a' data='<a href=\"/image4.html\">Name:Image 5<br><'>,\n",
       " <Selector xpath='descendant-or-self::div/a' data='<a href=\"/image6.html\">Name:Image 6<br><'>,\n",
       " <Selector xpath='descendant-or-self::div/a' data='<a href=\"/image7.html\">Name:Image 7<br><'>,\n",
       " <Selector xpath='descendant-or-self::div/a' data='<a href=\"/image8.html\">Name:Image 8<br><'>,\n",
       " <Selector xpath='descendant-or-self::div/a' data='<a href=\"/image9.html\">Name:Image 9<br><'>]"
      ]
     },
     "execution_count": 6,
     "metadata": {},
     "output_type": "execute_result"
    }
   ],
   "source": [
    "selector.css('div > a')"
   ]
  },
  {
   "cell_type": "code",
   "execution_count": 7,
   "metadata": {},
   "outputs": [
    {
     "data": {
      "text/plain": [
       "[<Selector xpath=\"descendant-or-self::*[@class and contains(concat(' ', normalize-space(@class), ' '), ' div1 ')]\" data='<div id=\"images-1\" class=\"div1\" style=\"w'>]"
      ]
     },
     "execution_count": 7,
     "metadata": {},
     "output_type": "execute_result"
    }
   ],
   "source": [
    "selector.css('.div1')"
   ]
  },
  {
   "cell_type": "code",
   "execution_count": 8,
   "metadata": {},
   "outputs": [
    {
     "data": {
      "text/plain": [
       "[<Selector xpath=\"descendant-or-self::*[@id = 'images-1']\" data='<div id=\"images-1\" class=\"div1\" style=\"w'>]"
      ]
     },
     "execution_count": 8,
     "metadata": {},
     "output_type": "execute_result"
    }
   ],
   "source": [
    "selector.css('#images-1')"
   ]
  },
  {
   "cell_type": "code",
   "execution_count": 9,
   "metadata": {},
   "outputs": [
    {
     "data": {
      "text/plain": [
       "[<Selector xpath=\"descendant-or-self::*[@id = 'images-1']\" data='<div id=\"images-1\" class=\"div1\" style=\"w'>]"
      ]
     },
     "execution_count": 9,
     "metadata": {},
     "output_type": "execute_result"
    }
   ],
   "source": [
    "selector.css('[id = images-1]')"
   ]
  },
  {
   "cell_type": "code",
   "execution_count": 10,
   "metadata": {},
   "outputs": [
    {
     "data": {
      "text/plain": [
       "[]"
      ]
     },
     "execution_count": 10,
     "metadata": {},
     "output_type": "execute_result"
    }
   ],
   "source": [
    "selector.css('.div1 > .img-red')"
   ]
  },
  {
   "cell_type": "code",
   "execution_count": 11,
   "metadata": {},
   "outputs": [
    {
     "data": {
      "text/plain": [
       "[]"
      ]
     },
     "execution_count": 11,
     "metadata": {},
     "output_type": "execute_result"
    }
   ],
   "source": [
    "selector.css('a+.img-red')"
   ]
  },
  {
   "cell_type": "code",
   "execution_count": 12,
   "metadata": {},
   "outputs": [
    {
     "data": {
      "text/plain": [
       "[]"
      ]
     },
     "execution_count": 12,
     "metadata": {},
     "output_type": "execute_result"
    }
   ],
   "source": [
    "selector.css('div+.div1')"
   ]
  },
  {
   "cell_type": "code",
   "execution_count": 13,
   "metadata": {},
   "outputs": [
    {
     "name": "stdout",
     "output_type": "stream",
     "text": [
      "[<Selector xpath='descendant-or-self::div[count(preceding-sibling::*) = 0]' data='<div>\\n<div>\\n<div id=\"images-1\" class=\"di'>, <Selector xpath='descendant-or-self::div[count(preceding-sibling::*) = 0]' data='<div>\\n<div id=\"images-1\" class=\"div1\" st'>, <Selector xpath='descendant-or-self::div[count(preceding-sibling::*) = 0]' data='<div id=\"images-1\" class=\"div1\" style=\"w'>]\n",
      "[<Selector xpath='descendant-or-self::div[count(following-sibling::*) = 0]' data='<div>\\n<div>\\n<div id=\"images-1\" class=\"di'>, <Selector xpath='descendant-or-self::div[count(following-sibling::*) = 0]' data='<div>\\n<div id=\"images-1\" class=\"div1\" st'>, <Selector xpath='descendant-or-self::div[count(following-sibling::*) = 0]' data='<div id=\"images-3\" style=\"width: 1230px\"'>]\n"
     ]
    }
   ],
   "source": [
    "print(selector.css('div:first-child')) # 第一个子标签\n",
    "print(selector.css('div:last-child')) # 最后一个子标签"
   ]
  },
  {
   "cell_type": "code",
   "execution_count": 14,
   "metadata": {},
   "outputs": [
    {
     "name": "stdout",
     "output_type": "stream",
     "text": [
      "[<Selector xpath='descendant-or-self::div[count(preceding-sibling::*) = 0]' data='<div>\\n<div>\\n<div id=\"images-1\" class=\"di'>, <Selector xpath='descendant-or-self::div[count(preceding-sibling::*) = 0]' data='<div>\\n<div id=\"images-1\" class=\"div1\" st'>, <Selector xpath='descendant-or-self::div[count(preceding-sibling::*) = 0]' data='<div id=\"images-1\" class=\"div1\" style=\"w'>]\n",
      "[<Selector xpath='descendant-or-self::div[count(following-sibling::*) = 0]' data='<div>\\n<div>\\n<div id=\"images-1\" class=\"di'>, <Selector xpath='descendant-or-self::div[count(following-sibling::*) = 0]' data='<div>\\n<div id=\"images-1\" class=\"div1\" st'>, <Selector xpath='descendant-or-self::div[count(following-sibling::*) = 0]' data='<div id=\"images-3\" style=\"width: 1230px\"'>]\n"
     ]
    }
   ],
   "source": [
    "print(selector.css('div:nth-child(1)')) # 注意看现在的xpath,一是数字1与0,二是对应的xpath\n",
    "print(selector.css('div:nth-last-child(1)')) # 注意看现在的xpath,一是数字1与0,二是对应的xpath"
   ]
  }
 ],
 "metadata": {
  "kernelspec": {
   "display_name": "Python 3",
   "language": "python",
   "name": "python3"
  },
  "language_info": {
   "codemirror_mode": {
    "name": "ipython",
    "version": 3
   },
   "file_extension": ".py",
   "mimetype": "text/x-python",
   "name": "python",
   "nbconvert_exporter": "python",
   "pygments_lexer": "ipython3",
   "version": "3.6.4"
  }
 },
 "nbformat": 4,
 "nbformat_minor": 2
}
