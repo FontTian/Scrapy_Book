{
 "cells": [
  {
   "cell_type": "code",
   "execution_count": 1,
   "metadata": {},
   "outputs": [
    {
     "name": "stdout",
     "output_type": "stream",
     "text": [
      "<?xml version=\"1.0\" encoding=\"UTF-8\"?>\n",
      "\n",
      "<bookstore>\n",
      "\n",
      "<book category=\"COOKING class\">\n",
      "  <title lang=\"en\">Everyday Italian</title>\n",
      "  <author>Giada De Laurentiis</author>\n",
      "  <year>2005</year>\n",
      "  <price>30.00</price>\n",
      "</book>\n",
      "\n",
      "<book category=\"CHILDREN\">\n",
      "  <title lang=\"en\">Harry Potter</title>\n",
      "  <author>J K. Rowling</author>\n",
      "  <year>2005</year>\n",
      "  <price>29.99</price>\n",
      "</book>\n",
      "\n",
      "<book category=\"WEB\">\n",
      "  <title lang=\"en\">XQuery Kick Start</title>\n",
      "  <author>James McGovern</author>\n",
      "  <author>Per Bothner</author>\n",
      "  <author>Kurt Cagle</author>\n",
      "  <author>James Linn</author>\n",
      "  <author>Vaidyanathan Nagarajan</author>\n",
      "  <year>2003</year>\n",
      "  <price>49.99</price>\n",
      "</book>\n",
      "\n",
      "<book category=\"WEB\">\n",
      "  <title lang=\"en\">Learning XML</title>\n",
      "  <author>Erik T. Ray</author>\n",
      "  <year>2003</year>\n",
      "  <price>39.95</price>\n",
      "</book>\n",
      "\n",
      "</bookstore>\n",
      "\n"
     ]
    }
   ],
   "source": [
    "# 创建数据集\n",
    "with open('/home/font/Data/Scrapy/example/example2_1.xml','r') as f:\n",
    "    text = f.read()\n",
    "\n",
    "print(text)"
   ]
  },
  {
   "cell_type": "code",
   "execution_count": 2,
   "metadata": {},
   "outputs": [
    {
     "data": {
      "text/plain": [
       "<Selector xpath=None data='<html><body><bookstore>\\n\\n<book category='>"
      ]
     },
     "execution_count": 2,
     "metadata": {},
     "output_type": "execute_result"
    }
   ],
   "source": [
    "from scrapy.http import HtmlResponse\n",
    "from scrapy.selector import Selector\n",
    "\n",
    "response = HtmlResponse(url = 'http://www.runoob.com/xpath/xpath-tutorial.html',body = text,encoding = 'utf8')\n",
    "selector = Selector(response=response)\n",
    "selector"
   ]
  },
  {
   "cell_type": "code",
   "execution_count": 3,
   "metadata": {},
   "outputs": [
    {
     "data": {
      "text/plain": [
       "[<Selector xpath='//author' data='<author>Giada De Laurentiis</author>'>,\n",
       " <Selector xpath='//author' data='<author>J K. Rowling</author>'>,\n",
       " <Selector xpath='//author' data='<author>James McGovern</author>'>,\n",
       " <Selector xpath='//author' data='<author>Per Bothner</author>'>,\n",
       " <Selector xpath='//author' data='<author>Kurt Cagle</author>'>,\n",
       " <Selector xpath='//author' data='<author>James Linn</author>'>,\n",
       " <Selector xpath='//author' data='<author>Vaidyanathan Nagarajan</author>'>,\n",
       " <Selector xpath='//author' data='<author>Erik T. Ray</author>'>]"
      ]
     },
     "execution_count": 3,
     "metadata": {},
     "output_type": "execute_result"
    }
   ],
   "source": [
    "selector.xpath('//author')"
   ]
  },
  {
   "cell_type": "code",
   "execution_count": 4,
   "metadata": {},
   "outputs": [
    {
     "data": {
      "text/plain": [
       "[<Selector xpath='//bookstore' data='<bookstore>\\n\\n<book category=\"COOKING cla'>]"
      ]
     },
     "execution_count": 4,
     "metadata": {},
     "output_type": "execute_result"
    }
   ],
   "source": [
    "sel_bookstore = selector.xpath('//bookstore')\n",
    "sel_bookstore"
   ]
  },
  {
   "cell_type": "code",
   "execution_count": 5,
   "metadata": {},
   "outputs": [
    {
     "data": {
      "text/plain": [
       "[]"
      ]
     },
     "execution_count": 5,
     "metadata": {},
     "output_type": "execute_result"
    }
   ],
   "source": [
    "sel_bookstore2 = selector.xpath('./bookstore')\n",
    "sel_bookstore2 # 为什么是 []"
   ]
  },
  {
   "cell_type": "code",
   "execution_count": 6,
   "metadata": {},
   "outputs": [
    {
     "data": {
      "text/plain": [
       "[<Selector xpath='./book' data='<book category=\"COOKING class\">\\n  <title'>,\n",
       " <Selector xpath='./book' data='<book category=\"CHILDREN\">\\n  <title lang'>,\n",
       " <Selector xpath='./book' data='<book category=\"WEB\">\\n  <title lang=\"en\"'>,\n",
       " <Selector xpath='./book' data='<book category=\"WEB\">\\n  <title lang=\"en\"'>]"
      ]
     },
     "execution_count": 6,
     "metadata": {},
     "output_type": "execute_result"
    }
   ],
   "source": [
    "sel_book = sel_bookstore.xpath('./book')\n",
    "sel_book"
   ]
  },
  {
   "cell_type": "code",
   "execution_count": 7,
   "metadata": {},
   "outputs": [
    {
     "data": {
      "text/plain": [
       "[<Selector xpath='//book' data='<book category=\"COOKING class\">\\n  <title'>,\n",
       " <Selector xpath='//book' data='<book category=\"CHILDREN\">\\n  <title lang'>,\n",
       " <Selector xpath='//book' data='<book category=\"WEB\">\\n  <title lang=\"en\"'>,\n",
       " <Selector xpath='//book' data='<book category=\"WEB\">\\n  <title lang=\"en\"'>]"
      ]
     },
     "execution_count": 7,
     "metadata": {},
     "output_type": "execute_result"
    }
   ],
   "source": [
    "sel_book_1 = sel_bookstore.xpath('//book')\n",
    "sel_book_1"
   ]
  },
  {
   "cell_type": "code",
   "execution_count": 8,
   "metadata": {},
   "outputs": [
    {
     "data": {
      "text/plain": [
       "[<Selector xpath='./*' data='<book category=\"COOKING class\">\\n  <title'>,\n",
       " <Selector xpath='./*' data='<book category=\"CHILDREN\">\\n  <title lang'>,\n",
       " <Selector xpath='./*' data='<book category=\"WEB\">\\n  <title lang=\"en\"'>,\n",
       " <Selector xpath='./*' data='<book category=\"WEB\">\\n  <title lang=\"en\"'>]"
      ]
     },
     "execution_count": 8,
     "metadata": {},
     "output_type": "execute_result"
    }
   ],
   "source": [
    "sel_book２ = sel_bookstore.xpath('./*')\n",
    "sel_book２"
   ]
  },
  {
   "cell_type": "code",
   "execution_count": 9,
   "metadata": {},
   "outputs": [
    {
     "data": {
      "text/plain": [
       "['COOKING class', 'CHILDREN', 'WEB', 'WEB']"
      ]
     },
     "execution_count": 9,
     "metadata": {},
     "output_type": "execute_result"
    }
   ],
   "source": [
    "sel_book3 = sel_bookstore.xpath('./book/@category')\n",
    "sel_book3.extract()"
   ]
  },
  {
   "cell_type": "code",
   "execution_count": 10,
   "metadata": {},
   "outputs": [
    {
     "data": {
      "text/plain": [
       "['<book category=\"COOKING class\">\\n  <title lang=\"en\">Everyday Italian</title>\\n  <author>Giada De Laurentiis</author>\\n  <year>2005</year>\\n  <price>30.00</price>\\n</book>',\n",
       " '<book category=\"CHILDREN\">\\n  <title lang=\"en\">Harry Potter</title>\\n  <author>J K. Rowling</author>\\n  <year>2005</year>\\n  <price>29.99</price>\\n</book>',\n",
       " '<book category=\"WEB\">\\n  <title lang=\"en\">XQuery Kick Start</title>\\n  <author>James McGovern</author>\\n  <author>Per Bothner</author>\\n  <author>Kurt Cagle</author>\\n  <author>James Linn</author>\\n  <author>Vaidyanathan Nagarajan</author>\\n  <year>2003</year>\\n  <price>49.99</price>\\n</book>',\n",
       " '<book category=\"WEB\">\\n  <title lang=\"en\">Learning XML</title>\\n  <author>Erik T. Ray</author>\\n  <year>2003</year>\\n  <price>39.95</price>\\n</book>']"
      ]
     },
     "execution_count": 10,
     "metadata": {},
     "output_type": "execute_result"
    }
   ],
   "source": [
    "sel_book4 = sel_bookstore.xpath('./book[@category]')\n",
    "sel_book4.extract()"
   ]
  },
  {
   "cell_type": "code",
   "execution_count": 11,
   "metadata": {},
   "outputs": [
    {
     "data": {
      "text/plain": [
       "[<Selector xpath='./book[contains(@category,\"class\")]' data='<book category=\"COOKING class\">\\n  <title'>]"
      ]
     },
     "execution_count": 11,
     "metadata": {},
     "output_type": "execute_result"
    }
   ],
   "source": [
    "sel_book5 = sel_bookstore.xpath('./book[contains(@category,\"class\")]')\n",
    "sel_book5"
   ]
  },
  {
   "cell_type": "code",
   "execution_count": 12,
   "metadata": {},
   "outputs": [
    {
     "data": {
      "text/plain": [
       "[<Selector xpath='./book[contains(@category,\"COOKING\")]' data='<book category=\"COOKING class\">\\n  <title'>]"
      ]
     },
     "execution_count": 12,
     "metadata": {},
     "output_type": "execute_result"
    }
   ],
   "source": [
    "sel_book6 = sel_bookstore.xpath('./book[contains(@category,\"COOKING\")]')\n",
    "sel_book6"
   ]
  },
  {
   "cell_type": "code",
   "execution_count": 13,
   "metadata": {},
   "outputs": [
    {
     "data": {
      "text/plain": [
       "['<book category=\"WEB\">\\n  <title lang=\"en\">XQuery Kick Start</title>\\n  <author>James McGovern</author>\\n  <author>Per Bothner</author>\\n  <author>Kurt Cagle</author>\\n  <author>James Linn</author>\\n  <author>Vaidyanathan Nagarajan</author>\\n  <year>2003</year>\\n  <price>49.99</price>\\n</book>',\n",
       " '<book category=\"WEB\">\\n  <title lang=\"en\">Learning XML</title>\\n  <author>Erik T. Ray</author>\\n  <year>2003</year>\\n  <price>39.95</price>\\n</book>']"
      ]
     },
     "execution_count": 13,
     "metadata": {},
     "output_type": "execute_result"
    }
   ],
   "source": [
    "sel_book7 = sel_book6.xpath('../book[contains(@category,\"WEB\")]')\n",
    "sel_book7.extract()\n",
    "\n",
    "# 但是这样会带来一个问题(一个经典错误)"
   ]
  },
  {
   "cell_type": "code",
   "execution_count": 14,
   "metadata": {},
   "outputs": [
    {
     "name": "stdout",
     "output_type": "stream",
     "text": [
      "<author>Giada De Laurentiis</author>\n",
      "<author>J K. Rowling</author>\n",
      "<author>James McGovern</author>\n",
      "<author>Per Bothner</author>\n",
      "<author>Kurt Cagle</author>\n",
      "<author>James Linn</author>\n",
      "<author>Vaidyanathan Nagarajan</author>\n",
      "<author>Erik T. Ray</author>\n",
      "<author>Giada De Laurentiis</author>\n",
      "<author>J K. Rowling</author>\n",
      "<author>James McGovern</author>\n",
      "<author>Per Bothner</author>\n",
      "<author>Kurt Cagle</author>\n",
      "<author>James Linn</author>\n",
      "<author>Vaidyanathan Nagarajan</author>\n",
      "<author>Erik T. Ray</author>\n"
     ]
    }
   ],
   "source": [
    "sel_book_web1 = sel_book7.xpath('//author')\n",
    "\n",
    "for i in sel_book_web1:\n",
    "    print(i.extract())\n",
    "    \n",
    "# 两个问题,一输出了八个作者,二输出了两边,为什么?"
   ]
  },
  {
   "cell_type": "code",
   "execution_count": 15,
   "metadata": {},
   "outputs": [
    {
     "data": {
      "text/plain": [
       "[<Selector xpath='//book' data='<book category=\"COOKING class\">\\n  <title'>,\n",
       " <Selector xpath='//book' data='<book category=\"CHILDREN\">\\n  <title lang'>,\n",
       " <Selector xpath='//book' data='<book category=\"WEB\">\\n  <title lang=\"en\"'>,\n",
       " <Selector xpath='//book' data='<book category=\"WEB\">\\n  <title lang=\"en\"'>,\n",
       " <Selector xpath='//book' data='<book category=\"COOKING class\">\\n  <title'>,\n",
       " <Selector xpath='//book' data='<book category=\"CHILDREN\">\\n  <title lang'>,\n",
       " <Selector xpath='//book' data='<book category=\"WEB\">\\n  <title lang=\"en\"'>,\n",
       " <Selector xpath='//book' data='<book category=\"WEB\">\\n  <title lang=\"en\"'>]"
      ]
     },
     "execution_count": 15,
     "metadata": {},
     "output_type": "execute_result"
    }
   ],
   "source": [
    "sel_book7.xpath('//book')"
   ]
  },
  {
   "cell_type": "code",
   "execution_count": 16,
   "metadata": {},
   "outputs": [
    {
     "data": {
      "text/plain": [
       "[<Selector xpath='//book[contains(@category,\"WEB\")]//author' data='<author>James McGovern</author>'>,\n",
       " <Selector xpath='//book[contains(@category,\"WEB\")]//author' data='<author>Per Bothner</author>'>,\n",
       " <Selector xpath='//book[contains(@category,\"WEB\")]//author' data='<author>Kurt Cagle</author>'>,\n",
       " <Selector xpath='//book[contains(@category,\"WEB\")]//author' data='<author>James Linn</author>'>,\n",
       " <Selector xpath='//book[contains(@category,\"WEB\")]//author' data='<author>Vaidyanathan Nagarajan</author>'>,\n",
       " <Selector xpath='//book[contains(@category,\"WEB\")]//author' data='<author>Erik T. Ray</author>'>]"
      ]
     },
     "execution_count": 16,
     "metadata": {},
     "output_type": "execute_result"
    }
   ],
   "source": [
    "sel_book7 = selector.xpath('//book[contains(@category,\"WEB\")]//author')\n",
    "sel_book7\n",
    "  \n",
    "# 默认路径是Selector的Xpath的根路径\n",
    "# 解决路径问题应该使用一个路径,否则在SelectorList中会将路径解析两次"
   ]
  },
  {
   "cell_type": "code",
   "execution_count": 17,
   "metadata": {},
   "outputs": [
    {
     "name": "stdout",
     "output_type": "stream",
     "text": [
      "<author>James McGovern</author>\n",
      "<author>Per Bothner</author>\n",
      "<author>Kurt Cagle</author>\n",
      "<author>James Linn</author>\n",
      "<author>Vaidyanathan Nagarajan</author>\n",
      "<author>Erik T. Ray</author>\n"
     ]
    }
   ],
   "source": [
    "for i in sel_book7:\n",
    "    print(i.extract())"
   ]
  },
  {
   "cell_type": "code",
   "execution_count": 18,
   "metadata": {},
   "outputs": [
    {
     "name": "stdout",
     "output_type": "stream",
     "text": [
      "['\\n  ', 'Everyday Italian', '\\n  ', 'Giada De Laurentiis', '\\n  ', '2005', '\\n  ', '30.00', '\\n']\n",
      "['\\n  Everyday Italian\\n  Giada De Laurentiis\\n  2005\\n  30.00\\n']\n"
     ]
    }
   ],
   "source": [
    "print(selector.xpath('//book[contains(@category,\"COOKING\")]//text()').extract())\n",
    "print(selector.xpath('string(//book[contains(@category,\"COOKING\")])').extract())"
   ]
  },
  {
   "cell_type": "code",
   "execution_count": 19,
   "metadata": {},
   "outputs": [
    {
     "name": "stdout",
     "output_type": "stream",
     "text": [
      "<?xml version=\"1.0\" encoding=\"UTF-8\"?>\n",
      "\n",
      "<bookstore>\n",
      "\n",
      "<book category=\"COOKING class\">\n",
      "  <title lang=\"en\">Everyday Italian</title>\n",
      "  <author>Giada De Laurentiis</author>\n",
      "  <year>2005</year>\n",
      "  <price>30.00</price>\n",
      "</book>\n",
      "\n",
      "<book category=\"CHILDREN\">\n",
      "  <title lang=\"en\">Harry Potter</title>\n",
      "  <author>J K. Rowling</author>\n",
      "  <year>2005</year>\n",
      "  <price>29.99</price>\n",
      "</book>\n",
      "\n",
      "<book category=\"WEB\">\n",
      "  <title lang=\"en\">XQuery Kick Start</title>\n",
      "  <author>James McGovern</author>\n",
      "  <author>Per Bothner</author>\n",
      "  <author>Kurt Cagle</author>\n",
      "  <author>James Linn</author>\n",
      "  <author>Vaidyanathan Nagarajan</author>\n",
      "  <year>2003</year>\n",
      "  <price>49.99</price>\n",
      "</book>\n",
      "\n",
      "<book category=\"WEB\">\n",
      "  <title lang=\"en\">Learning XML</title>\n",
      "  <author>Erik T. Ray</author>\n",
      "  <year>2003</year>\n",
      "  <price>39.95</price>\n",
      "</book>\n",
      "\n",
      "</bookstore>\n",
      "\n"
     ]
    }
   ],
   "source": [
    "print(text)"
   ]
  },
  {
   "cell_type": "code",
   "execution_count": 20,
   "metadata": {},
   "outputs": [
    {
     "data": {
      "text/plain": [
       "<Selector xpath='//book' data='<book category=\"WEB\">\\n  <title lang=\"en\"'>"
      ]
     },
     "execution_count": 20,
     "metadata": {},
     "output_type": "execute_result"
    }
   ],
   "source": [
    "response = HtmlResponse(url = 'http://www.runoob.com/xpath/xpath-tutorial.html',body = text,encoding = 'utf8')\n",
    "selector = Selector(response=response)\n",
    "sel_book = selector.xpath('//book')\n",
    "sel_book.xpath('//book')[3]"
   ]
  },
  {
   "cell_type": "code",
   "execution_count": 21,
   "metadata": {},
   "outputs": [
    {
     "name": "stdout",
     "output_type": "stream",
     "text": [
      "<bound method Selector.extract of <Selector xpath='//book' data='<book category=\"COOKING class\">\\n  <title'>>\n",
      "<bound method Selector.extract of <Selector xpath='//book' data='<book category=\"CHILDREN\">\\n  <title lang'>>\n",
      "<bound method Selector.extract of <Selector xpath='//book' data='<book category=\"WEB\">\\n  <title lang=\"en\"'>>\n",
      "<bound method Selector.extract of <Selector xpath='//book' data='<book category=\"WEB\">\\n  <title lang=\"en\"'>>\n"
     ]
    }
   ],
   "source": [
    "for i in sel_book:\n",
    "    print(i.extract)"
   ]
  },
  {
   "cell_type": "code",
   "execution_count": 22,
   "metadata": {},
   "outputs": [
    {
     "data": {
      "text/plain": [
       "[<Selector xpath='//book[position()<=3]' data='<book category=\"COOKING class\">\\n  <title'>,\n",
       " <Selector xpath='//book[position()<=3]' data='<book category=\"CHILDREN\">\\n  <title lang'>,\n",
       " <Selector xpath='//book[position()<=3]' data='<book category=\"WEB\">\\n  <title lang=\"en\"'>]"
      ]
     },
     "execution_count": 22,
     "metadata": {},
     "output_type": "execute_result"
    }
   ],
   "source": [
    "selector.xpath('//book[position()<=3]') # 按照顺序给予序号,取出序号前三个"
   ]
  },
  {
   "cell_type": "code",
   "execution_count": 23,
   "metadata": {},
   "outputs": [
    {
     "data": {
      "text/plain": [
       "[<Selector xpath='//book[position()>=4]' data='<book category=\"WEB\">\\n  <title lang=\"en\"'>]"
      ]
     },
     "execution_count": 23,
     "metadata": {},
     "output_type": "execute_result"
    }
   ],
   "source": [
    "selector.xpath('//book[position()>=4]') # 取出大于四的"
   ]
  },
  {
   "cell_type": "code",
   "execution_count": 24,
   "metadata": {},
   "outputs": [
    {
     "data": {
      "text/plain": [
       "[<Selector xpath='//book[position()=4]' data='<book category=\"WEB\">\\n  <title lang=\"en\"'>]"
      ]
     },
     "execution_count": 24,
     "metadata": {},
     "output_type": "execute_result"
    }
   ],
   "source": [
    "selector.xpath('//book[position()=4]') # 取出等于四的"
   ]
  },
  {
   "cell_type": "code",
   "execution_count": 25,
   "metadata": {},
   "outputs": [
    {
     "data": {
      "text/plain": [
       "[<Selector xpath='//book[last()]' data='<book category=\"WEB\">\\n  <title lang=\"en\"'>]"
      ]
     },
     "execution_count": 25,
     "metadata": {},
     "output_type": "execute_result"
    }
   ],
   "source": [
    "selector.xpath('//book[last()]') "
   ]
  },
  {
   "cell_type": "code",
   "execution_count": 26,
   "metadata": {},
   "outputs": [
    {
     "data": {
      "text/plain": [
       "False"
      ]
     },
     "execution_count": 26,
     "metadata": {},
     "output_type": "execute_result"
    }
   ],
   "source": [
    "selector.xpath('//book[last()]')  == selector.xpath('//book[position()=4]') "
   ]
  },
  {
   "cell_type": "code",
   "execution_count": 27,
   "metadata": {},
   "outputs": [
    {
     "data": {
      "text/plain": [
       "[<Selector xpath='//book[price>30]' data='<book category=\"WEB\">\\n  <title lang=\"en\"'>,\n",
       " <Selector xpath='//book[price>30]' data='<book category=\"WEB\">\\n  <title lang=\"en\"'>]"
      ]
     },
     "execution_count": 27,
     "metadata": {},
     "output_type": "execute_result"
    }
   ],
   "source": [
    "selector.xpath('//book[price>30]')"
   ]
  },
  {
   "cell_type": "code",
   "execution_count": 28,
   "metadata": {},
   "outputs": [
    {
     "data": {
      "text/plain": [
       "[<Selector xpath='//book[price>30 or year = \"2005\"]' data='<book category=\"COOKING class\">\\n  <title'>,\n",
       " <Selector xpath='//book[price>30 or year = \"2005\"]' data='<book category=\"CHILDREN\">\\n  <title lang'>,\n",
       " <Selector xpath='//book[price>30 or year = \"2005\"]' data='<book category=\"WEB\">\\n  <title lang=\"en\"'>,\n",
       " <Selector xpath='//book[price>30 or year = \"2005\"]' data='<book category=\"WEB\">\\n  <title lang=\"en\"'>]"
      ]
     },
     "execution_count": 28,
     "metadata": {},
     "output_type": "execute_result"
    }
   ],
   "source": [
    "selector.xpath('//book[price>30 or year = \"2005\"]')"
   ]
  },
  {
   "cell_type": "code",
   "execution_count": 29,
   "metadata": {},
   "outputs": [
    {
     "data": {
      "text/plain": [
       "[<Selector xpath='//book[price>30] | //book[year = \"2005\"]' data='<book category=\"COOKING class\">\\n  <title'>,\n",
       " <Selector xpath='//book[price>30] | //book[year = \"2005\"]' data='<book category=\"CHILDREN\">\\n  <title lang'>,\n",
       " <Selector xpath='//book[price>30] | //book[year = \"2005\"]' data='<book category=\"WEB\">\\n  <title lang=\"en\"'>,\n",
       " <Selector xpath='//book[price>30] | //book[year = \"2005\"]' data='<book category=\"WEB\">\\n  <title lang=\"en\"'>]"
      ]
     },
     "execution_count": 29,
     "metadata": {},
     "output_type": "execute_result"
    }
   ],
   "source": [
    "selector.xpath('//book[price>30] | //book[year = \"2005\"]')"
   ]
  }
 ],
 "metadata": {
  "kernelspec": {
   "display_name": "Python 3",
   "language": "python",
   "name": "python3"
  },
  "language_info": {
   "codemirror_mode": {
    "name": "ipython",
    "version": 3
   },
   "file_extension": ".py",
   "mimetype": "text/x-python",
   "name": "python",
   "nbconvert_exporter": "python",
   "pygments_lexer": "ipython3",
   "version": "3.6.4"
  }
 },
 "nbformat": 4,
 "nbformat_minor": 2
}
